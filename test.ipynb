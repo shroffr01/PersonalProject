{
 "cells": [
  {
   "cell_type": "code",
   "execution_count": 36,
   "metadata": {},
   "outputs": [],
   "source": [
    "import streamlit as st\n",
    "import numpy as np\n",
    "import pandas as pd\n",
    "import numpy as np\n",
    "import requests\n",
    "import json\n",
    "import os\n",
    "import datetime\n"
   ]
  },
  {
   "cell_type": "code",
   "execution_count": 40,
   "metadata": {},
   "outputs": [
    {
     "name": "stdout",
     "output_type": "stream",
     "text": [
      "<Response [200]>\n",
      "https://api.weather.gov/gridpoints/RNK/38,53\n",
      "<Response [200]>\n"
     ]
    }
   ],
   "source": [
    "r = requests.get('https://httpbin.org/user-agent')\n",
    "useragent = json.loads(r.text)['user-agent']\n",
    "headers = {'User-agent': useragent}\n",
    "\n",
    "# Get URL for hourly forecast data\n",
    "\n",
    "url = f\"https://api.weather.gov/points/{37},{-81}\"\n",
    "r = requests.get(url, headers = headers)\n",
    "print(r)\n",
    "myjson = json.loads(r.text)\n",
    "df1 = pd.json_normalize(myjson['properties'])\n",
    "df1\n",
    "hourlyURL = df1['forecastGridData'].iloc[0]   \n",
    "print(hourlyURL)\n",
    "# # Obtain actual hourly forecast data\n",
    "\n",
    "r = requests.get(hourlyURL, headers = headers)\n",
    "print(r)\n",
    "myjson = json.loads(r.text)\n",
    "df1 = pd.json_normalize(myjson['properties']['temperature']['values'])\n"
   ]
  },
  {
   "cell_type": "code",
   "execution_count": 41,
   "metadata": {},
   "outputs": [
    {
     "data": {
      "text/html": [
       "<div>\n",
       "<style scoped>\n",
       "    .dataframe tbody tr th:only-of-type {\n",
       "        vertical-align: middle;\n",
       "    }\n",
       "\n",
       "    .dataframe tbody tr th {\n",
       "        vertical-align: top;\n",
       "    }\n",
       "\n",
       "    .dataframe thead th {\n",
       "        text-align: right;\n",
       "    }\n",
       "</style>\n",
       "<table border=\"1\" class=\"dataframe\">\n",
       "  <thead>\n",
       "    <tr style=\"text-align: right;\">\n",
       "      <th></th>\n",
       "      <th>validTime</th>\n",
       "      <th>value</th>\n",
       "    </tr>\n",
       "  </thead>\n",
       "  <tbody>\n",
       "    <tr>\n",
       "      <th>0</th>\n",
       "      <td>2024-07-23T19:00:00+00:00/PT1H</td>\n",
       "      <td>26.111111</td>\n",
       "    </tr>\n",
       "    <tr>\n",
       "      <th>1</th>\n",
       "      <td>2024-07-23T20:00:00+00:00/PT1H</td>\n",
       "      <td>22.222222</td>\n",
       "    </tr>\n",
       "    <tr>\n",
       "      <th>2</th>\n",
       "      <td>2024-07-23T21:00:00+00:00/PT1H</td>\n",
       "      <td>24.444444</td>\n",
       "    </tr>\n",
       "    <tr>\n",
       "      <th>3</th>\n",
       "      <td>2024-07-23T22:00:00+00:00/PT1H</td>\n",
       "      <td>23.888889</td>\n",
       "    </tr>\n",
       "    <tr>\n",
       "      <th>4</th>\n",
       "      <td>2024-07-23T23:00:00+00:00/PT1H</td>\n",
       "      <td>22.777778</td>\n",
       "    </tr>\n",
       "    <tr>\n",
       "      <th>...</th>\n",
       "      <td>...</td>\n",
       "      <td>...</td>\n",
       "    </tr>\n",
       "    <tr>\n",
       "      <th>149</th>\n",
       "      <td>2024-07-31T06:00:00+00:00/PT1H</td>\n",
       "      <td>19.444444</td>\n",
       "    </tr>\n",
       "    <tr>\n",
       "      <th>150</th>\n",
       "      <td>2024-07-31T07:00:00+00:00/PT2H</td>\n",
       "      <td>18.888889</td>\n",
       "    </tr>\n",
       "    <tr>\n",
       "      <th>151</th>\n",
       "      <td>2024-07-31T09:00:00+00:00/PT1H</td>\n",
       "      <td>18.333333</td>\n",
       "    </tr>\n",
       "    <tr>\n",
       "      <th>152</th>\n",
       "      <td>2024-07-31T10:00:00+00:00/PT2H</td>\n",
       "      <td>17.777778</td>\n",
       "    </tr>\n",
       "    <tr>\n",
       "      <th>153</th>\n",
       "      <td>2024-07-31T12:00:00+00:00/PT1H</td>\n",
       "      <td>19.444444</td>\n",
       "    </tr>\n",
       "  </tbody>\n",
       "</table>\n",
       "<p>154 rows × 2 columns</p>\n",
       "</div>"
      ],
      "text/plain": [
       "                          validTime      value\n",
       "0    2024-07-23T19:00:00+00:00/PT1H  26.111111\n",
       "1    2024-07-23T20:00:00+00:00/PT1H  22.222222\n",
       "2    2024-07-23T21:00:00+00:00/PT1H  24.444444\n",
       "3    2024-07-23T22:00:00+00:00/PT1H  23.888889\n",
       "4    2024-07-23T23:00:00+00:00/PT1H  22.777778\n",
       "..                              ...        ...\n",
       "149  2024-07-31T06:00:00+00:00/PT1H  19.444444\n",
       "150  2024-07-31T07:00:00+00:00/PT2H  18.888889\n",
       "151  2024-07-31T09:00:00+00:00/PT1H  18.333333\n",
       "152  2024-07-31T10:00:00+00:00/PT2H  17.777778\n",
       "153  2024-07-31T12:00:00+00:00/PT1H  19.444444\n",
       "\n",
       "[154 rows x 2 columns]"
      ]
     },
     "execution_count": 41,
     "metadata": {},
     "output_type": "execute_result"
    }
   ],
   "source": [
    "df1"
   ]
  },
  {
   "cell_type": "code",
   "execution_count": 25,
   "metadata": {},
   "outputs": [],
   "source": [
    "import matplotlib.pyplot as plt"
   ]
  },
  {
   "cell_type": "code",
   "execution_count": 29,
   "metadata": {},
   "outputs": [
    {
     "data": {
      "text/plain": [
       "array([list([{'validTime': '2024-07-23T12:00:00+00:00/PT1H', 'value': 18.88888888888889}, {'validTime': '2024-07-23T13:00:00+00:00/PT1H', 'value': 20.555555555555557}, {'validTime': '2024-07-23T14:00:00+00:00/PT1H', 'value': 22.22222222222222}, {'validTime': '2024-07-23T15:00:00+00:00/PT1H', 'value': 23.88888888888889}, {'validTime': '2024-07-23T16:00:00+00:00/PT1H', 'value': 25}, {'validTime': '2024-07-23T17:00:00+00:00/PT1H', 'value': 25.555555555555557}, {'validTime': '2024-07-23T18:00:00+00:00/PT2H', 'value': 26.11111111111111}, {'validTime': '2024-07-23T20:00:00+00:00/PT1H', 'value': 26.666666666666668}, {'validTime': '2024-07-23T21:00:00+00:00/PT1H', 'value': 25}, {'validTime': '2024-07-23T22:00:00+00:00/PT1H', 'value': 25.555555555555557}, {'validTime': '2024-07-23T23:00:00+00:00/PT1H', 'value': 24.444444444444443}, {'validTime': '2024-07-24T00:00:00+00:00/PT1H', 'value': 22.77777777777778}, {'validTime': '2024-07-24T01:00:00+00:00/PT1H', 'value': 21.666666666666668}, {'validTime': '2024-07-24T02:00:00+00:00/PT1H', 'value': 21.11111111111111}, {'validTime': '2024-07-24T03:00:00+00:00/PT1H', 'value': 20.555555555555557}, {'validTime': '2024-07-24T04:00:00+00:00/PT2H', 'value': 20}, {'validTime': '2024-07-24T06:00:00+00:00/PT4H', 'value': 19.444444444444443}, {'validTime': '2024-07-24T10:00:00+00:00/PT2H', 'value': 18.88888888888889}, {'validTime': '2024-07-24T12:00:00+00:00/PT1H', 'value': 19.444444444444443}, {'validTime': '2024-07-24T13:00:00+00:00/PT1H', 'value': 21.11111111111111}, {'validTime': '2024-07-24T14:00:00+00:00/PT1H', 'value': 21.666666666666668}, {'validTime': '2024-07-24T15:00:00+00:00/PT1H', 'value': 22.22222222222222}, {'validTime': '2024-07-24T16:00:00+00:00/PT1H', 'value': 22.77777777777778}, {'validTime': '2024-07-24T17:00:00+00:00/PT1H', 'value': 23.88888888888889}, {'validTime': '2024-07-24T18:00:00+00:00/PT1H', 'value': 25}, {'validTime': '2024-07-24T19:00:00+00:00/PT4H', 'value': 25.555555555555557}, {'validTime': '2024-07-24T23:00:00+00:00/PT1H', 'value': 24.444444444444443}, {'validTime': '2024-07-25T00:00:00+00:00/PT1H', 'value': 22.77777777777778}, {'validTime': '2024-07-25T01:00:00+00:00/PT1H', 'value': 22.22222222222222}, {'validTime': '2024-07-25T02:00:00+00:00/PT1H', 'value': 21.11111111111111}, {'validTime': '2024-07-25T03:00:00+00:00/PT1H', 'value': 20.555555555555557}, {'validTime': '2024-07-25T04:00:00+00:00/PT2H', 'value': 20}, {'validTime': '2024-07-25T06:00:00+00:00/PT1H', 'value': 19.444444444444443}, {'validTime': '2024-07-25T07:00:00+00:00/PT3H', 'value': 18.88888888888889}, {'validTime': '2024-07-25T10:00:00+00:00/PT1H', 'value': 18.333333333333332}, {'validTime': '2024-07-25T11:00:00+00:00/PT1H', 'value': 17.77777777777778}, {'validTime': '2024-07-25T12:00:00+00:00/PT1H', 'value': 18.88888888888889}, {'validTime': '2024-07-25T13:00:00+00:00/PT1H', 'value': 20}, {'validTime': '2024-07-25T14:00:00+00:00/PT1H', 'value': 20.555555555555557}, {'validTime': '2024-07-25T15:00:00+00:00/PT1H', 'value': 21.666666666666668}, {'validTime': '2024-07-25T16:00:00+00:00/PT2H', 'value': 22.22222222222222}, {'validTime': '2024-07-25T18:00:00+00:00/PT1H', 'value': 22.77777777777778}, {'validTime': '2024-07-25T19:00:00+00:00/PT2H', 'value': 23.333333333333332}, {'validTime': '2024-07-25T21:00:00+00:00/PT1H', 'value': 22.77777777777778}, {'validTime': '2024-07-25T22:00:00+00:00/PT1H', 'value': 22.22222222222222}, {'validTime': '2024-07-25T23:00:00+00:00/PT1H', 'value': 21.666666666666668}, {'validTime': '2024-07-26T00:00:00+00:00/PT1H', 'value': 21.11111111111111}, {'validTime': '2024-07-26T01:00:00+00:00/PT1H', 'value': 20.555555555555557}, {'validTime': '2024-07-26T02:00:00+00:00/PT1H', 'value': 20}, {'validTime': '2024-07-26T03:00:00+00:00/PT2H', 'value': 18.88888888888889}, {'validTime': '2024-07-26T05:00:00+00:00/PT2H', 'value': 18.333333333333332}, {'validTime': '2024-07-26T07:00:00+00:00/PT2H', 'value': 17.77777777777778}, {'validTime': '2024-07-26T09:00:00+00:00/PT2H', 'value': 17.22222222222222}, {'validTime': '2024-07-26T11:00:00+00:00/PT1H', 'value': 16.666666666666668}, {'validTime': '2024-07-26T12:00:00+00:00/PT1H', 'value': 18.333333333333332}, {'validTime': '2024-07-26T13:00:00+00:00/PT1H', 'value': 20}, {'validTime': '2024-07-26T14:00:00+00:00/PT1H', 'value': 21.11111111111111}, {'validTime': '2024-07-26T15:00:00+00:00/PT1H', 'value': 22.22222222222222}, {'validTime': '2024-07-26T16:00:00+00:00/PT1H', 'value': 23.333333333333332}, {'validTime': '2024-07-26T17:00:00+00:00/PT1H', 'value': 23.88888888888889}, {'validTime': '2024-07-26T18:00:00+00:00/PT1H', 'value': 24.444444444444443}, {'validTime': '2024-07-26T19:00:00+00:00/PT1H', 'value': 25.555555555555557}, {'validTime': '2024-07-26T20:00:00+00:00/PT1H', 'value': 26.11111111111111}, {'validTime': '2024-07-26T21:00:00+00:00/PT1H', 'value': 24.444444444444443}, {'validTime': '2024-07-26T22:00:00+00:00/PT1H', 'value': 23.88888888888889}, {'validTime': '2024-07-26T23:00:00+00:00/PT1H', 'value': 23.333333333333332}, {'validTime': '2024-07-27T00:00:00+00:00/PT1H', 'value': 22.22222222222222}, {'validTime': '2024-07-27T01:00:00+00:00/PT1H', 'value': 21.666666666666668}, {'validTime': '2024-07-27T02:00:00+00:00/PT1H', 'value': 20.555555555555557}, {'validTime': '2024-07-27T03:00:00+00:00/PT1H', 'value': 19.444444444444443}, {'validTime': '2024-07-27T04:00:00+00:00/PT2H', 'value': 18.88888888888889}, {'validTime': '2024-07-27T06:00:00+00:00/PT1H', 'value': 18.333333333333332}, {'validTime': '2024-07-27T07:00:00+00:00/PT2H', 'value': 17.77777777777778}, {'validTime': '2024-07-27T09:00:00+00:00/PT1H', 'value': 17.22222222222222}, {'validTime': '2024-07-27T10:00:00+00:00/PT2H', 'value': 16.666666666666668}, {'validTime': '2024-07-27T12:00:00+00:00/PT1H', 'value': 18.333333333333332}, {'validTime': '2024-07-27T13:00:00+00:00/PT1H', 'value': 19.444444444444443}, {'validTime': '2024-07-27T14:00:00+00:00/PT1H', 'value': 21.11111111111111}, {'validTime': '2024-07-27T15:00:00+00:00/PT1H', 'value': 22.22222222222222}, {'validTime': '2024-07-27T16:00:00+00:00/PT1H', 'value': 22.77777777777778}, {'validTime': '2024-07-27T17:00:00+00:00/PT1H', 'value': 23.333333333333332}, {'validTime': '2024-07-27T18:00:00+00:00/PT1H', 'value': 24.444444444444443}, {'validTime': '2024-07-27T19:00:00+00:00/PT1H', 'value': 25}, {'validTime': '2024-07-27T20:00:00+00:00/PT1H', 'value': 25.555555555555557}, {'validTime': '2024-07-27T21:00:00+00:00/PT1H', 'value': 24.444444444444443}, {'validTime': '2024-07-27T22:00:00+00:00/PT1H', 'value': 23.88888888888889}, {'validTime': '2024-07-27T23:00:00+00:00/PT1H', 'value': 22.77777777777778}, {'validTime': '2024-07-28T00:00:00+00:00/PT1H', 'value': 22.22222222222222}, {'validTime': '2024-07-28T01:00:00+00:00/PT1H', 'value': 21.11111111111111}, {'validTime': '2024-07-28T02:00:00+00:00/PT1H', 'value': 20}, {'validTime': '2024-07-28T03:00:00+00:00/PT2H', 'value': 18.88888888888889}, {'validTime': '2024-07-28T05:00:00+00:00/PT1H', 'value': 18.333333333333332}, {'validTime': '2024-07-28T06:00:00+00:00/PT2H', 'value': 17.77777777777778}, {'validTime': '2024-07-28T08:00:00+00:00/PT1H', 'value': 17.22222222222222}, {'validTime': '2024-07-28T09:00:00+00:00/PT2H', 'value': 16.666666666666668}, {'validTime': '2024-07-28T11:00:00+00:00/PT1H', 'value': 16.11111111111111}, {'validTime': '2024-07-28T12:00:00+00:00/PT1H', 'value': 17.77777777777778}, {'validTime': '2024-07-28T13:00:00+00:00/PT1H', 'value': 19.444444444444443}, {'validTime': '2024-07-28T14:00:00+00:00/PT1H', 'value': 21.11111111111111}, {'validTime': '2024-07-28T15:00:00+00:00/PT1H', 'value': 22.77777777777778}, {'validTime': '2024-07-28T16:00:00+00:00/PT1H', 'value': 23.333333333333332}, {'validTime': '2024-07-28T17:00:00+00:00/PT1H', 'value': 24.444444444444443}, {'validTime': '2024-07-28T18:00:00+00:00/PT1H', 'value': 25.555555555555557}, {'validTime': '2024-07-28T19:00:00+00:00/PT1H', 'value': 26.11111111111111}, {'validTime': '2024-07-28T20:00:00+00:00/PT1H', 'value': 26.666666666666668}, {'validTime': '2024-07-28T21:00:00+00:00/PT1H', 'value': 25.555555555555557}, {'validTime': '2024-07-28T22:00:00+00:00/PT1H', 'value': 24.444444444444443}, {'validTime': '2024-07-28T23:00:00+00:00/PT1H', 'value': 23.88888888888889}, {'validTime': '2024-07-29T00:00:00+00:00/PT1H', 'value': 23.333333333333332}, {'validTime': '2024-07-29T01:00:00+00:00/PT1H', 'value': 22.22222222222222}, {'validTime': '2024-07-29T02:00:00+00:00/PT1H', 'value': 21.11111111111111}, {'validTime': '2024-07-29T03:00:00+00:00/PT1H', 'value': 20}, {'validTime': '2024-07-29T04:00:00+00:00/PT1H', 'value': 19.444444444444443}, {'validTime': '2024-07-29T05:00:00+00:00/PT1H', 'value': 18.88888888888889}, {'validTime': '2024-07-29T06:00:00+00:00/PT2H', 'value': 18.333333333333332}, {'validTime': '2024-07-29T08:00:00+00:00/PT2H', 'value': 17.77777777777778}, {'validTime': '2024-07-29T10:00:00+00:00/PT1H', 'value': 17.22222222222222}, {'validTime': '2024-07-29T11:00:00+00:00/PT1H', 'value': 16.666666666666668}, {'validTime': '2024-07-29T12:00:00+00:00/PT1H', 'value': 18.88888888888889}, {'validTime': '2024-07-29T13:00:00+00:00/PT1H', 'value': 20}, {'validTime': '2024-07-29T14:00:00+00:00/PT1H', 'value': 21.666666666666668}, {'validTime': '2024-07-29T15:00:00+00:00/PT1H', 'value': 23.333333333333332}, {'validTime': '2024-07-29T16:00:00+00:00/PT1H', 'value': 23.88888888888889}, {'validTime': '2024-07-29T17:00:00+00:00/PT1H', 'value': 25}, {'validTime': '2024-07-29T18:00:00+00:00/PT1H', 'value': 25.555555555555557}, {'validTime': '2024-07-29T19:00:00+00:00/PT1H', 'value': 26.666666666666668}, {'validTime': '2024-07-29T20:00:00+00:00/PT1H', 'value': 27.22222222222222}, {'validTime': '2024-07-29T21:00:00+00:00/PT1H', 'value': 26.11111111111111}, {'validTime': '2024-07-29T22:00:00+00:00/PT1H', 'value': 25}, {'validTime': '2024-07-29T23:00:00+00:00/PT1H', 'value': 24.444444444444443}, {'validTime': '2024-07-30T00:00:00+00:00/PT1H', 'value': 23.333333333333332}, {'validTime': '2024-07-30T01:00:00+00:00/PT1H', 'value': 22.22222222222222}, {'validTime': '2024-07-30T02:00:00+00:00/PT1H', 'value': 21.666666666666668}, {'validTime': '2024-07-30T03:00:00+00:00/PT1H', 'value': 20.555555555555557}, {'validTime': '2024-07-30T04:00:00+00:00/PT1H', 'value': 20}, {'validTime': '2024-07-30T05:00:00+00:00/PT1H', 'value': 19.444444444444443}, {'validTime': '2024-07-30T06:00:00+00:00/PT2H', 'value': 18.88888888888889}, {'validTime': '2024-07-30T08:00:00+00:00/PT1H', 'value': 18.333333333333332}, {'validTime': '2024-07-30T09:00:00+00:00/PT2H', 'value': 17.77777777777778}, {'validTime': '2024-07-30T11:00:00+00:00/PT1H', 'value': 17.22222222222222}, {'validTime': '2024-07-30T12:00:00+00:00/PT1H', 'value': 18.88888888888889}, {'validTime': '2024-07-30T13:00:00+00:00/PT1H', 'value': 20.555555555555557}, {'validTime': '2024-07-30T14:00:00+00:00/PT1H', 'value': 22.22222222222222}, {'validTime': '2024-07-30T15:00:00+00:00/PT1H', 'value': 23.88888888888889}, {'validTime': '2024-07-30T16:00:00+00:00/PT1H', 'value': 24.444444444444443}, {'validTime': '2024-07-30T17:00:00+00:00/PT1H', 'value': 25.555555555555557}, {'validTime': '2024-07-30T18:00:00+00:00/PT1H', 'value': 26.11111111111111}, {'validTime': '2024-07-30T19:00:00+00:00/PT1H', 'value': 27.22222222222222}, {'validTime': '2024-07-30T20:00:00+00:00/PT1H', 'value': 27.77777777777778}, {'validTime': '2024-07-30T21:00:00+00:00/PT1H', 'value': 26.666666666666668}, {'validTime': '2024-07-30T22:00:00+00:00/PT1H', 'value': 25.555555555555557}, {'validTime': '2024-07-30T23:00:00+00:00/PT1H', 'value': 25}, {'validTime': '2024-07-31T00:00:00+00:00/PT1H', 'value': 23.88888888888889}, {'validTime': '2024-07-31T01:00:00+00:00/PT1H', 'value': 22.77777777777778}, {'validTime': '2024-07-31T02:00:00+00:00/PT1H', 'value': 22.22222222222222}, {'validTime': '2024-07-31T03:00:00+00:00/PT1H', 'value': 21.11111111111111}, {'validTime': '2024-07-31T04:00:00+00:00/PT1H', 'value': 20.555555555555557}, {'validTime': '2024-07-31T05:00:00+00:00/PT1H', 'value': 20}, {'validTime': '2024-07-31T06:00:00+00:00/PT1H', 'value': 19.444444444444443}, {'validTime': '2024-07-31T07:00:00+00:00/PT2H', 'value': 18.88888888888889}, {'validTime': '2024-07-31T09:00:00+00:00/PT1H', 'value': 18.333333333333332}, {'validTime': '2024-07-31T10:00:00+00:00/PT2H', 'value': 17.77777777777778}, {'validTime': '2024-07-31T12:00:00+00:00/PT1H', 'value': 19.444444444444443}])],\n",
       "      dtype=object)"
      ]
     },
     "execution_count": 29,
     "metadata": {},
     "output_type": "execute_result"
    }
   ],
   "source": [
    "a = np.array(df1['temperature.values'])\n",
    "a"
   ]
  },
  {
   "cell_type": "code",
   "execution_count": null,
   "metadata": {},
   "outputs": [],
   "source": []
  }
 ],
 "metadata": {
  "kernelspec": {
   "display_name": "Python 3",
   "language": "python",
   "name": "python3"
  },
  "language_info": {
   "codemirror_mode": {
    "name": "ipython",
    "version": 3
   },
   "file_extension": ".py",
   "mimetype": "text/x-python",
   "name": "python",
   "nbconvert_exporter": "python",
   "pygments_lexer": "ipython3",
   "version": "3.11.9"
  }
 },
 "nbformat": 4,
 "nbformat_minor": 2
}
