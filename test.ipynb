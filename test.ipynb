{
 "cells": [
  {
   "cell_type": "code",
   "execution_count": 1,
   "metadata": {},
   "outputs": [],
   "source": [
    "import streamlit as st\n",
    "import numpy as np\n",
    "import pandas as pd\n",
    "import numpy as np\n",
    "import requests\n",
    "import json\n",
    "import os\n",
    "import datetime\n"
   ]
  },
  {
   "cell_type": "code",
   "execution_count": 2,
   "metadata": {},
   "outputs": [
    {
     "name": "stdout",
     "output_type": "stream",
     "text": [
      "<Response [200]>\n",
      "https://api.weather.gov/gridpoints/RNK/38,53\n",
      "<Response [200]>\n"
     ]
    }
   ],
   "source": [
    "r = requests.get('https://httpbin.org/user-agent')\n",
    "useragent = json.loads(r.text)['user-agent']\n",
    "headers = {'User-agent': useragent}\n",
    "\n",
    "# Get URL for hourly forecast data\n",
    "\n",
    "url = f\"https://api.weather.gov/points/{37},{-81}\"\n",
    "r = requests.get(url, headers = headers)\n",
    "print(r)\n",
    "myjson = json.loads(r.text)\n",
    "df1 = pd.json_normalize(myjson['properties'])\n",
    "df1\n",
    "hourlyURL = df1['forecastGridData'].iloc[0]   \n",
    "print(hourlyURL)\n",
    "# # Obtain actual hourly forecast data\n",
    "\n",
    "r = requests.get(hourlyURL, headers = headers)\n",
    "print(r)\n",
    "myjson = json.loads(r.text)\n",
    "df1 = pd.json_normalize(myjson['properties']['skyCover']['values'])\n"
   ]
  },
  {
   "cell_type": "code",
   "execution_count": 3,
   "metadata": {},
   "outputs": [
    {
     "data": {
      "text/html": [
       "<div>\n",
       "<style scoped>\n",
       "    .dataframe tbody tr th:only-of-type {\n",
       "        vertical-align: middle;\n",
       "    }\n",
       "\n",
       "    .dataframe tbody tr th {\n",
       "        vertical-align: top;\n",
       "    }\n",
       "\n",
       "    .dataframe thead th {\n",
       "        text-align: right;\n",
       "    }\n",
       "</style>\n",
       "<table border=\"1\" class=\"dataframe\">\n",
       "  <thead>\n",
       "    <tr style=\"text-align: right;\">\n",
       "      <th></th>\n",
       "      <th>validTime</th>\n",
       "      <th>value</th>\n",
       "    </tr>\n",
       "  </thead>\n",
       "  <tbody>\n",
       "    <tr>\n",
       "      <th>0</th>\n",
       "      <td>2024-07-24T20:00:00+00:00/PT1H</td>\n",
       "      <td>68</td>\n",
       "    </tr>\n",
       "    <tr>\n",
       "      <th>1</th>\n",
       "      <td>2024-07-24T21:00:00+00:00/PT1H</td>\n",
       "      <td>43</td>\n",
       "    </tr>\n",
       "    <tr>\n",
       "      <th>2</th>\n",
       "      <td>2024-07-24T22:00:00+00:00/PT1H</td>\n",
       "      <td>33</td>\n",
       "    </tr>\n",
       "    <tr>\n",
       "      <th>3</th>\n",
       "      <td>2024-07-24T23:00:00+00:00/PT1H</td>\n",
       "      <td>10</td>\n",
       "    </tr>\n",
       "    <tr>\n",
       "      <th>4</th>\n",
       "      <td>2024-07-25T00:00:00+00:00/PT1H</td>\n",
       "      <td>74</td>\n",
       "    </tr>\n",
       "    <tr>\n",
       "      <th>...</th>\n",
       "      <td>...</td>\n",
       "      <td>...</td>\n",
       "    </tr>\n",
       "    <tr>\n",
       "      <th>153</th>\n",
       "      <td>2024-08-01T17:00:00+00:00/PT1H</td>\n",
       "      <td>54</td>\n",
       "    </tr>\n",
       "    <tr>\n",
       "      <th>154</th>\n",
       "      <td>2024-08-01T18:00:00+00:00/PT1H</td>\n",
       "      <td>56</td>\n",
       "    </tr>\n",
       "    <tr>\n",
       "      <th>155</th>\n",
       "      <td>2024-08-01T19:00:00+00:00/PT1H</td>\n",
       "      <td>59</td>\n",
       "    </tr>\n",
       "    <tr>\n",
       "      <th>156</th>\n",
       "      <td>2024-08-01T20:00:00+00:00/PT1H</td>\n",
       "      <td>61</td>\n",
       "    </tr>\n",
       "    <tr>\n",
       "      <th>157</th>\n",
       "      <td>2024-08-01T21:00:00+00:00/PT4H</td>\n",
       "      <td>50</td>\n",
       "    </tr>\n",
       "  </tbody>\n",
       "</table>\n",
       "<p>158 rows × 2 columns</p>\n",
       "</div>"
      ],
      "text/plain": [
       "                          validTime  value\n",
       "0    2024-07-24T20:00:00+00:00/PT1H     68\n",
       "1    2024-07-24T21:00:00+00:00/PT1H     43\n",
       "2    2024-07-24T22:00:00+00:00/PT1H     33\n",
       "3    2024-07-24T23:00:00+00:00/PT1H     10\n",
       "4    2024-07-25T00:00:00+00:00/PT1H     74\n",
       "..                              ...    ...\n",
       "153  2024-08-01T17:00:00+00:00/PT1H     54\n",
       "154  2024-08-01T18:00:00+00:00/PT1H     56\n",
       "155  2024-08-01T19:00:00+00:00/PT1H     59\n",
       "156  2024-08-01T20:00:00+00:00/PT1H     61\n",
       "157  2024-08-01T21:00:00+00:00/PT4H     50\n",
       "\n",
       "[158 rows x 2 columns]"
      ]
     },
     "execution_count": 3,
     "metadata": {},
     "output_type": "execute_result"
    }
   ],
   "source": [
    "df1"
   ]
  },
  {
   "cell_type": "code",
   "execution_count": 4,
   "metadata": {},
   "outputs": [],
   "source": [
    "df1['validTime'] = df1['validTime'].str.extract(r'^(.*?)/')\n",
    "\n",
    "# Convert the extracted start time to datetime\n",
    "df1['validTime'] = pd.to_datetime(df1['validTime'])"
   ]
  },
  {
   "cell_type": "code",
   "execution_count": 5,
   "metadata": {},
   "outputs": [
    {
     "data": {
      "text/html": [
       "<div>\n",
       "<style scoped>\n",
       "    .dataframe tbody tr th:only-of-type {\n",
       "        vertical-align: middle;\n",
       "    }\n",
       "\n",
       "    .dataframe tbody tr th {\n",
       "        vertical-align: top;\n",
       "    }\n",
       "\n",
       "    .dataframe thead th {\n",
       "        text-align: right;\n",
       "    }\n",
       "</style>\n",
       "<table border=\"1\" class=\"dataframe\">\n",
       "  <thead>\n",
       "    <tr style=\"text-align: right;\">\n",
       "      <th></th>\n",
       "      <th>validTime</th>\n",
       "      <th>value</th>\n",
       "    </tr>\n",
       "  </thead>\n",
       "  <tbody>\n",
       "    <tr>\n",
       "      <th>0</th>\n",
       "      <td>2024-07-24 20:00:00+00:00</td>\n",
       "      <td>68</td>\n",
       "    </tr>\n",
       "    <tr>\n",
       "      <th>1</th>\n",
       "      <td>2024-07-24 21:00:00+00:00</td>\n",
       "      <td>43</td>\n",
       "    </tr>\n",
       "    <tr>\n",
       "      <th>2</th>\n",
       "      <td>2024-07-24 22:00:00+00:00</td>\n",
       "      <td>33</td>\n",
       "    </tr>\n",
       "    <tr>\n",
       "      <th>3</th>\n",
       "      <td>2024-07-24 23:00:00+00:00</td>\n",
       "      <td>10</td>\n",
       "    </tr>\n",
       "    <tr>\n",
       "      <th>4</th>\n",
       "      <td>2024-07-25 00:00:00+00:00</td>\n",
       "      <td>74</td>\n",
       "    </tr>\n",
       "    <tr>\n",
       "      <th>...</th>\n",
       "      <td>...</td>\n",
       "      <td>...</td>\n",
       "    </tr>\n",
       "    <tr>\n",
       "      <th>153</th>\n",
       "      <td>2024-08-01 17:00:00+00:00</td>\n",
       "      <td>54</td>\n",
       "    </tr>\n",
       "    <tr>\n",
       "      <th>154</th>\n",
       "      <td>2024-08-01 18:00:00+00:00</td>\n",
       "      <td>56</td>\n",
       "    </tr>\n",
       "    <tr>\n",
       "      <th>155</th>\n",
       "      <td>2024-08-01 19:00:00+00:00</td>\n",
       "      <td>59</td>\n",
       "    </tr>\n",
       "    <tr>\n",
       "      <th>156</th>\n",
       "      <td>2024-08-01 20:00:00+00:00</td>\n",
       "      <td>61</td>\n",
       "    </tr>\n",
       "    <tr>\n",
       "      <th>157</th>\n",
       "      <td>2024-08-01 21:00:00+00:00</td>\n",
       "      <td>50</td>\n",
       "    </tr>\n",
       "  </tbody>\n",
       "</table>\n",
       "<p>158 rows × 2 columns</p>\n",
       "</div>"
      ],
      "text/plain": [
       "                    validTime  value\n",
       "0   2024-07-24 20:00:00+00:00     68\n",
       "1   2024-07-24 21:00:00+00:00     43\n",
       "2   2024-07-24 22:00:00+00:00     33\n",
       "3   2024-07-24 23:00:00+00:00     10\n",
       "4   2024-07-25 00:00:00+00:00     74\n",
       "..                        ...    ...\n",
       "153 2024-08-01 17:00:00+00:00     54\n",
       "154 2024-08-01 18:00:00+00:00     56\n",
       "155 2024-08-01 19:00:00+00:00     59\n",
       "156 2024-08-01 20:00:00+00:00     61\n",
       "157 2024-08-01 21:00:00+00:00     50\n",
       "\n",
       "[158 rows x 2 columns]"
      ]
     },
     "execution_count": 5,
     "metadata": {},
     "output_type": "execute_result"
    }
   ],
   "source": [
    "df1"
   ]
  },
  {
   "cell_type": "code",
   "execution_count": 6,
   "metadata": {},
   "outputs": [],
   "source": [
    "import matplotlib.pyplot as plt"
   ]
  },
  {
   "cell_type": "code",
   "execution_count": 7,
   "metadata": {},
   "outputs": [
    {
     "name": "stderr",
     "output_type": "stream",
     "text": [
      "C:\\Users\\shrof\\AppData\\Local\\Temp\\ipykernel_7132\\3908856360.py:2: UserWarning: FigureCanvasAgg is non-interactive, and thus cannot be shown\n",
      "  plt.show()\n"
     ]
    }
   ],
   "source": [
    "plt.plot(df1['value'])\n",
    "plt.show()"
   ]
  },
  {
   "cell_type": "code",
   "execution_count": 8,
   "metadata": {},
   "outputs": [
    {
     "data": {
      "text/plain": [
       "(array([19929., 19930., 19931., 19932., 19933., 19934., 19935., 19936.,\n",
       "        19937.]),\n",
       " [Text(19929.0, 0, '2024-07-25'),\n",
       "  Text(19930.0, 0, '2024-07-26'),\n",
       "  Text(19931.0, 0, '2024-07-27'),\n",
       "  Text(19932.0, 0, '2024-07-28'),\n",
       "  Text(19933.0, 0, '2024-07-29'),\n",
       "  Text(19934.0, 0, '2024-07-30'),\n",
       "  Text(19935.0, 0, '2024-07-31'),\n",
       "  Text(19936.0, 0, '2024-08-01'),\n",
       "  Text(19937.0, 0, '2024-08-02')])"
      ]
     },
     "execution_count": 8,
     "metadata": {},
     "output_type": "execute_result"
    }
   ],
   "source": [
    "fig = plt.figure(figsize=(8,6),facecolor='white')\n",
    "ax = fig.add_subplot()\n",
    "\n",
    "plt.plot(df1['validTime'],df1['value'], label = 'Ram (Gb)')\n",
    "\n",
    "ax.set_xlabel('RAM (GB)', fontsize=16)\n",
    "ax.set_ylabel('Count', fontsize=16)\n",
    "ax.set_title('Histogram of Ram (GB) for 2021-2024 MSDS Cohort',fontsize=18)\n",
    "plt.yticks(fontsize=14)\n",
    "plt.xticks(fontsize = 14)\n",
    "\n"
   ]
  },
  {
   "cell_type": "code",
   "execution_count": 9,
   "metadata": {},
   "outputs": [
    {
     "name": "stderr",
     "output_type": "stream",
     "text": [
      "C:\\Users\\shrof\\AppData\\Local\\Temp\\ipykernel_7132\\865095387.py:33: UserWarning: FigureCanvasAgg is non-interactive, and thus cannot be shown\n",
      "  plt.show()\n"
     ]
    }
   ],
   "source": [
    "import pandas as pd\n",
    "import matplotlib.pyplot as plt\n",
    "import matplotlib.dates as mdates\n",
    "\n",
    "# Assuming df1 is your DataFrame and 'validTime' is already in datetime format\n",
    "\n",
    "fig = plt.figure(figsize=(8, 6), facecolor='white')\n",
    "ax = fig.add_subplot()\n",
    "\n",
    "# Plot the data\n",
    "ax.plot(df1['validTime'], df1['value'], label='Ram (Gb)')\n",
    "\n",
    "# Formatting the x-axis to display datetime values properly\n",
    "ax.xaxis.set_major_locator(mdates.DayLocator())  # Set major ticks to every day\n",
    "ax.xaxis.set_minor_locator(mdates.HourLocator(interval=6))  # Set minor ticks to every 6 hours\n",
    "ax.xaxis.set_major_formatter(mdates.DateFormatter('%Y-%m-%d'))  # Format major tick labels\n",
    "\n",
    "# Rotate the x-axis labels for better readability\n",
    "plt.setp(ax.xaxis.get_majorticklabels(), rotation=45)\n",
    "\n",
    "# Set labels and title\n",
    "ax.set_xlabel('Time', fontsize=16)\n",
    "ax.set_ylabel('Value', fontsize=16)\n",
    "ax.set_title('Time Series Data', fontsize=18)\n",
    "plt.yticks(fontsize=14)\n",
    "plt.xticks(fontsize=14)\n",
    "\n",
    "# Show the legend\n",
    "ax.legend()\n",
    "\n",
    "# Display the plot\n",
    "plt.tight_layout()\n",
    "plt.show()"
   ]
  },
  {
   "cell_type": "code",
   "execution_count": 1,
   "metadata": {},
   "outputs": [
    {
     "data": {
      "image/png": "[encoded data removed]",
      "text/plain": [
       "<Figure size 640x480 with 1 Axes>"
      ]
     },
     "metadata": {},
     "output_type": "display_data"
    }
   ],
   "source": [
    "import numpy as np\n",
    "import matplotlib.pyplot as plt \n",
    "a = np.array([1,2,4])\n",
    "plt.plot(a)\n",
    "plt.show()"
   ]
  },
  {
   "cell_type": "code",
   "execution_count": 11,
   "metadata": {},
   "outputs": [
    {
     "data": {
      "text/plain": [
       "[<matplotlib.lines.Line2D at 0x1c6a7a17cd0>]"
      ]
     },
     "execution_count": 11,
     "metadata": {},
     "output_type": "execute_result"
    }
   ],
   "source": [
    "import numpy as np\n",
    "import matplotlib.pyplot as plt\n",
    "a = np.array([1,2,3])\n",
    "plt.plot(a)"
   ]
  },
  {
   "cell_type": "code",
   "execution_count": null,
   "metadata": {},
   "outputs": [],
   "source": []
  }
 ],
 "metadata": {
  "kernelspec": {
   "display_name": "Python 3",
   "language": "python",
   "name": "python3"
  },
  "language_info": {
   "codemirror_mode": {
    "name": "ipython",
    "version": 3
   },
   "file_extension": ".py",
   "mimetype": "text/x-python",
   "name": "python",
   "nbconvert_exporter": "python",
   "pygments_lexer": "ipython3",
   "version": "3.11.9"
  }
 },
 "nbformat": 4,
 "nbformat_minor": 2
}
